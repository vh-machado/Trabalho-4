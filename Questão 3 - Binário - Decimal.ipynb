{
 "cells": [
  {
   "cell_type": "code",
   "execution_count": 29,
   "metadata": {
    "scrolled": false
   },
   "outputs": [
    {
     "name": "stdout",
     "output_type": "stream",
     "text": [
      "Digite o número binário: 11101011\n",
      "1 x 2^7 + 1 x 2^6 + 1 x 2^5 + 0 x 2^4 + 1 x 2^3 + 0 x 2^2 + 1 x 2^1 + 1 x 2^0\n",
      " = 128 + 64 + 32 + 0 + 8 + 0 + 2 + 1\n",
      " = 235\n",
      "\n",
      "Binário:  11101011 \n",
      "Decimal:  235\n"
     ]
    }
   ],
   "source": [
    "teste = True\n",
    "while teste:\n",
    "    binario = input(\"Digite o número binário: \")\n",
    "    for i in range(len(binario)):\n",
    "        if binario[i] != \"0\" and binario[i] != \"1\":\n",
    "            teste = True\n",
    "            print(\"Valor inválido!\")\n",
    "            break\n",
    "        teste = False\n",
    "        \n",
    "decimal = 0\n",
    "calculo1 = \"\"\n",
    "calculo2 = \"\"\n",
    "\n",
    "for i in range(len(binario)):\n",
    "    if i==(len(binario)-1):\n",
    "        calculo1 += binario[i] + \" x 2^\" + str((len(binario)-1)-i)\n",
    "        calculo2 += str(int(binario[i]) * (2**((len(binario)-1)-i)))\n",
    "    else:\n",
    "        calculo1 += binario[i] + \" x 2^\" + str((len(binario)-1)-i) + \" + \"\n",
    "        calculo2 += str(int(binario[i]) * (2**((len(binario)-1)-i))) + \" + \"\n",
    "    decimal += int(binario[i]) * (2**((len(binario)-1)-i))\n",
    "\n",
    "print(calculo1)\n",
    "print(\" = \" + calculo2)\n",
    "print(\" =\", decimal)\n",
    "print(\"\\nBinário: \", binario, \"\\nDecimal: \", decimal)"
   ]
  },
  {
   "cell_type": "code",
   "execution_count": null,
   "metadata": {},
   "outputs": [],
   "source": []
  },
  {
   "cell_type": "code",
   "execution_count": null,
   "metadata": {},
   "outputs": [],
   "source": []
  }
 ],
 "metadata": {
  "kernelspec": {
   "display_name": "Python 3",
   "language": "python",
   "name": "python3"
  },
  "language_info": {
   "codemirror_mode": {
    "name": "ipython",
    "version": 3
   },
   "file_extension": ".py",
   "mimetype": "text/x-python",
   "name": "python",
   "nbconvert_exporter": "python",
   "pygments_lexer": "ipython3",
   "version": "3.8.6"
  }
 },
 "nbformat": 4,
 "nbformat_minor": 4
}
