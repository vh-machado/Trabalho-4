{
 "cells": [
  {
   "cell_type": "code",
   "execution_count": 3,
   "metadata": {
    "scrolled": false
   },
   "outputs": [
    {
     "name": "stdout",
     "output_type": "stream",
     "text": [
      "Digite o número binário: 100101001\n",
      "\n",
      "Binário: 100101001\n",
      "Complemento de 1: 011010110\n",
      "Complemento de 2: 011010110 + 1 = 011010111\n"
     ]
    }
   ],
   "source": [
    "def somabin(n1, n2):\n",
    "    global sobra\n",
    "    if sobra == \"1\":\n",
    "        if (n1 == \"1\" and n2 == \"0\") or (n1 == \"0\" and n2 == \"1\"):\n",
    "            sobra = \"1\"\n",
    "            return \"0\"\n",
    "        elif n1 == \"0\" and n2 == \"0\":\n",
    "            sobra = \"0\"\n",
    "            return \"1\"\n",
    "        elif n1 == \"1\" and n2 == \"1\":\n",
    "            sobra = \"1\"\n",
    "            return \"1\"\n",
    "    else:\n",
    "        if (n1 == \"1\" and n2 == \"0\") or (n1 == \"0\" and n2 == \"1\"):\n",
    "            return \"1\"\n",
    "        elif n1 == \"0\" and n2 == \"0\":\n",
    "            return \"0\"\n",
    "        elif n1 == \"1\" and n2 == \"1\":\n",
    "            sobra = \"1\"\n",
    "            return \"0\"\n",
    "\n",
    "teste = True\n",
    "while teste:\n",
    "    binario = input(\"Digite o número binário: \")\n",
    "    for i in range(len(binario)):\n",
    "        if binario[i] != \"0\" and binario[i] != \"1\":\n",
    "            teste = True\n",
    "            print(\"Valor inválido!\")\n",
    "            break\n",
    "        teste = False\n",
    "        \n",
    "comp1 = \"\"\n",
    "for i in range(len(binario)):\n",
    "    if binario[i] == \"0\":\n",
    "        comp1 += \"1\"\n",
    "    else:\n",
    "        comp1 += \"0\"\n",
    "        \n",
    "print(\"\\nBinário: \"+binario+\"\\nComplemento de 1: \"+comp1)\n",
    "\n",
    "um = \"1\"\n",
    "while len(comp1) > len(um):\n",
    "    um = \"0\" + um\n",
    "\n",
    "sobra = \"\"\n",
    "comp2 = \"\"\n",
    "for i in range(len(comp1)-1, -1, -1):\n",
    "    comp2 = somabin(comp1[i], um[i]) + comp2\n",
    "\n",
    "print(\"Complemento de 2: \"+comp1+\" + 1 = \"+comp2)"
   ]
  },
  {
   "cell_type": "code",
   "execution_count": null,
   "metadata": {},
   "outputs": [],
   "source": []
  },
  {
   "cell_type": "code",
   "execution_count": null,
   "metadata": {},
   "outputs": [],
   "source": []
  }
 ],
 "metadata": {
  "kernelspec": {
   "display_name": "Python 3",
   "language": "python",
   "name": "python3"
  },
  "language_info": {
   "codemirror_mode": {
    "name": "ipython",
    "version": 3
   },
   "file_extension": ".py",
   "mimetype": "text/x-python",
   "name": "python",
   "nbconvert_exporter": "python",
   "pygments_lexer": "ipython3",
   "version": "3.8.6"
  }
 },
 "nbformat": 4,
 "nbformat_minor": 4
}
