{
 "cells": [
  {
   "cell_type": "code",
   "execution_count": 12,
   "metadata": {
    "scrolled": false
   },
   "outputs": [
    {
     "name": "stdout",
     "output_type": "stream",
     "text": [
      "Digite a quantidade de níveis de quantização: 16\n",
      "\n",
      "Número de bits:  4\n",
      "0000\n",
      "0001\n",
      "0010\n",
      "0011\n",
      "0100\n",
      "0101\n",
      "0110\n",
      "0111\n",
      "1000\n",
      "1001\n",
      "1010\n",
      "1011\n",
      "1100\n",
      "1101\n",
      "1110\n",
      "1111\n"
     ]
    }
   ],
   "source": [
    "niveis = int(input(\"Digite a quantidade de níveis de quantização: \"))\n",
    "while niveis <= 1:\n",
    "    niveis = int(input(\"Valor inválido!\\nDigite a quantidade de níveis de quantização: \"))\n",
    "\n",
    "potencia = 0\n",
    "div = niveis\n",
    "while div != 1:\n",
    "    div = int(div/2)\n",
    "    potencia += 1\n",
    "\n",
    "print(\"\\nNúmero de bits: \", potencia)\n",
    "for i in range(2**potencia):\n",
    "    print(f'{i:0{potencia}b}')\n",
    "\n"
   ]
  }
 ],
 "metadata": {
  "kernelspec": {
   "display_name": "Python 3",
   "language": "python",
   "name": "python3"
  },
  "language_info": {
   "codemirror_mode": {
    "name": "ipython",
    "version": 3
   },
   "file_extension": ".py",
   "mimetype": "text/x-python",
   "name": "python",
   "nbconvert_exporter": "python",
   "pygments_lexer": "ipython3",
   "version": "3.8.6"
  }
 },
 "nbformat": 4,
 "nbformat_minor": 4
}
