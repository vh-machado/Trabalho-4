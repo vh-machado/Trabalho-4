{
 "cells": [
  {
   "cell_type": "code",
   "execution_count": 3,
   "metadata": {
    "scrolled": true
   },
   "outputs": [
    {
     "name": "stdout",
     "output_type": "stream",
     "text": [
      "Digite o primeiro binário: 10110\n",
      "Digite o segundo binário: 00110\n",
      "10110 - 00110\n",
      "\n",
      "Binário: 00110\n",
      "Complemento de 1: 11001\n",
      "Complemento de 2: 11001 + 1 = 11010\n",
      "\n",
      "Soma final: \n",
      "10110 + 11010 = 10000\n"
     ]
    }
   ],
   "source": [
    "def somabin(n1, n2):\n",
    "    global sobra\n",
    "    if sobra == \"1\":\n",
    "        if (n1 == \"1\" and n2 == \"0\") or (n1 == \"0\" and n2 == \"1\"):\n",
    "            sobra = \"1\"\n",
    "            return \"0\"\n",
    "        elif n1 == \"0\" and n2 == \"0\":\n",
    "            sobra = \"0\"\n",
    "            return \"1\"\n",
    "        elif n1 == \"1\" and n2 == \"1\":\n",
    "            sobra = \"1\"\n",
    "            return \"1\"\n",
    "    else:\n",
    "        if (n1 == \"1\" and n2 == \"0\") or (n1 == \"0\" and n2 == \"1\"):\n",
    "            return \"1\"\n",
    "        elif n1 == \"0\" and n2 == \"0\":\n",
    "            return \"0\"\n",
    "        elif n1 == \"1\" and n2 == \"1\":\n",
    "            sobra = \"1\"\n",
    "            return \"0\"\n",
    "\n",
    "teste = True\n",
    "while teste:\n",
    "    b1 = input(\"Digite o primeiro binário: \")\n",
    "    for i in range(len(b1)):\n",
    "        if b1[i] != \"0\" and b1[i] != \"1\":\n",
    "            teste = True\n",
    "            print(\"Valor inválido!\")\n",
    "            break\n",
    "        teste = False\n",
    "\n",
    "teste = True\n",
    "while teste:\n",
    "    b2 = input(\"Digite o segundo binário: \")\n",
    "    for i in range(len(b2)):\n",
    "        if b2[i] != \"0\" and b2[i] != \"1\":\n",
    "            teste = True\n",
    "            print(\"Valor inválido!\")\n",
    "            break\n",
    "        teste = False\n",
    "        \n",
    "while len(b1) > len(b2):\n",
    "    b2 = \"0\" + b2\n",
    "    \n",
    "print(b1 + \" - \" + b2)\n",
    "\n",
    "comp1 = \"\"\n",
    "for i in range(len(b2)):\n",
    "    if b2[i] == \"0\":\n",
    "        comp1 += \"1\"\n",
    "    else:\n",
    "        comp1 += \"0\"\n",
    "        \n",
    "print(\"\\nBinário: \"+b2+\"\\nComplemento de 1: \"+comp1)\n",
    "\n",
    "um = \"1\"\n",
    "while len(comp1) > len(um):\n",
    "    um = \"0\" + um\n",
    "\n",
    "sobra = \"0\"\n",
    "comp2 = \"\"\n",
    "for i in range(len(comp1)-1, -1, -1):\n",
    "    comp2 = somabin(comp1[i], um[i]) + comp2\n",
    "\n",
    "print(\"Complemento de 2: \"+comp1+\" + 1 = \"+comp2)\n",
    "\n",
    "soma = \"\"\n",
    "for i in range(len(comp2)-1, -1, -1):\n",
    "    soma = somabin(b1[i], comp2[i]) + soma\n",
    "    \n",
    "print(\"\\nSoma final: \\n\"+b1 + \" + \" + comp2+ \" = \"+str(int(soma)))\n"
   ]
  },
  {
   "cell_type": "code",
   "execution_count": null,
   "metadata": {},
   "outputs": [],
   "source": []
  }
 ],
 "metadata": {
  "kernelspec": {
   "display_name": "Python 3",
   "language": "python",
   "name": "python3"
  },
  "language_info": {
   "codemirror_mode": {
    "name": "ipython",
    "version": 3
   },
   "file_extension": ".py",
   "mimetype": "text/x-python",
   "name": "python",
   "nbconvert_exporter": "python",
   "pygments_lexer": "ipython3",
   "version": "3.8.6"
  }
 },
 "nbformat": 4,
 "nbformat_minor": 4
}
