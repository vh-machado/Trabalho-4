{
 "cells": [
  {
   "cell_type": "code",
   "execution_count": 7,
   "metadata": {
    "scrolled": false
   },
   "outputs": [
    {
     "name": "stdout",
     "output_type": "stream",
     "text": [
      "Digite o número decimal: 1492\n",
      "1492 / 2 =  746  resto  0\n",
      "746 / 2 =  373  resto  0\n",
      "373 / 2 =  186  resto  1\n",
      "186 / 2 =  93  resto  0\n",
      "93 / 2 =  46  resto  1\n",
      "46 / 2 =  23  resto  0\n",
      "23 / 2 =  11  resto  1\n",
      "11 / 2 =  5  resto  1\n",
      "5 / 2 =  2  resto  1\n",
      "2 / 2 =  1  resto  0\n",
      "\n",
      "Decimal:  1492 \n",
      "Binário:  10111010100\n"
     ]
    }
   ],
   "source": [
    "decimal = int(input(\"Digite o número decimal: \"))\n",
    "\n",
    "binario1 = \"\"\n",
    "binario2 = \"\"\n",
    "\n",
    "div = decimal\n",
    "while div != 1:\n",
    "    print(div, \"/ 2 = \", int(div/2), \" resto \", div % 2)\n",
    "    binario1 += str(div % 2)\n",
    "    div = int(div/2)\n",
    "binario1 += \"1\"\n",
    "\n",
    "for i in range(len(binario1)-1, -1, -1):\n",
    "    binario2 += binario1[i]\n",
    "    \n",
    "print(\"\\nDecimal: \", decimal, \"\\nBinário: \", binario2)"
   ]
  },
  {
   "cell_type": "code",
   "execution_count": null,
   "metadata": {},
   "outputs": [],
   "source": []
  }
 ],
 "metadata": {
  "kernelspec": {
   "display_name": "Python 3",
   "language": "python",
   "name": "python3"
  },
  "language_info": {
   "codemirror_mode": {
    "name": "ipython",
    "version": 3
   },
   "file_extension": ".py",
   "mimetype": "text/x-python",
   "name": "python",
   "nbconvert_exporter": "python",
   "pygments_lexer": "ipython3",
   "version": "3.8.6"
  }
 },
 "nbformat": 4,
 "nbformat_minor": 4
}
